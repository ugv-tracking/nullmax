{
 "cells": [
  {
   "cell_type": "markdown",
   "metadata": {},
   "source": [
    "# Conbine DSST method"
   ]
  },
  {
   "cell_type": "markdown",
   "metadata": {},
   "source": [
    "## System LIBS"
   ]
  },
  {
   "cell_type": "code",
   "execution_count": 9,
   "metadata": {
    "collapsed": true
   },
   "outputs": [],
   "source": [
    "import sys\n",
    "import glob\n",
    "import os\n",
    "import argparse\n",
    "import base64\n",
    "import time\n",
    "import json\n",
    "import math\n",
    "import cv2\n",
    "import numpy as np\n",
    "from numpy import empty, nan\n",
    "from numpy import *\n",
    "from __future__ import print_function\n",
    "import pylab\n",
    "import scipy.misc\n",
    "from optparse import OptionParser"
   ]
  },
  {
   "cell_type": "markdown",
   "metadata": {},
   "source": [
    "## Basic Function Define"
   ]
  },
  {
   "cell_type": "code",
   "execution_count": 2,
   "metadata": {
    "collapsed": true
   },
   "outputs": [],
   "source": [
    "def area_2(p1, p2, p3):\n",
    "    return abs(p1[0]*p2[1] + p2[0]*p3[1] + p3[0]*p1[1] - p1[0]*p3[1] - p2[0]*p1[1] - p3[0]*p2[1])\n",
    "\n",
    "def contains(triangle, h, px, py):\n",
    "    p1 = (triangle[0], triangle[1])\n",
    "    p2 = (triangle[2], h)\n",
    "    p3 = (triangle[3], h)\n",
    "    p = (px, py)\n",
    "    if area_2(p1, p2, p3) == area_2(p1, p2, p) + area_2(p1, p3, p) + area_2(p2, p3, p):\n",
    "        return 1\n",
    "    return 0\n",
    "\n",
    "def isintersect(triangle, rectangle, h):\n",
    "    if len(triangle) < 4:\n",
    "        return 1\n",
    "    if contains(triangle, h, rectangle[0], rectangle[1]) or contains(triangle, h, rectangle[0], rectangle[3]) or\\\n",
    "     contains(triangle, h, rectangle[2], rectangle[3]) or contains(triangle, h, rectangle[2], rectangle[1]):\n",
    "            return 1\n",
    "    if triangle[0] >= rectangle[0] and triangle[0] <= rectangle[2] and triangle[1] >= rectangle[1] and\\\n",
    "     triangle[1] <= rectangle[2]:\n",
    "            return 1\n",
    "    return 0\n",
    "\n",
    "def drawing_objdet(res, drawing_board, _h, _w, lane_triangle):\n",
    "    r_jo = res\n",
    "    color = [(0, 255, 0), (255, 255, 0), (0, 0, 255)]\n",
    "    maxy = 0\n",
    "    for item in r_jo['objs']:\n",
    "        _x1 = int(_w * item['left'])\n",
    "        _y1 = int(_h * item['top'])\n",
    "        _x2 = int(_w * item['right'])\n",
    "        _y2 = int(_h * item['bottom'])\n",
    "        _confidence = item['confidence']\n",
    "        _type = item['type']\n",
    "        if _confidence > 0.9:\n",
    "            if _type == 'CAR':\n",
    "                cl = color[1]\n",
    "            elif _type == 'PEDESTRIAN':\n",
    "                cl = color[0]\n",
    "            elif _type == 'BICYCLE':\n",
    "                cl = color[2]\n",
    "            \n",
    "            if isintersect(lane_triangle, (_x1, _y1, _x2, _y2), _h):\n",
    "                if _y2 > maxy:\n",
    "                    maxy = _y2\n",
    "                    forward_car = (_x1, _y1, _x2, _y2)\n",
    "                    fc = cl\n",
    "    if 'forward_car' in dir():\n",
    "        cv2.rectangle(drawing_board, (forward_car[0], forward_car[1]), (forward_car[2], forward_car[3]), fc, 1)\n",
    "        valid = True\n",
    "        bbox = np.array([forward_car[0], forward_car[1], forward_car[2]-forward_car[0], forward_car[3]-forward_car[1]])\n",
    "    else:\n",
    "        bbox = np.array([0,0,0,0])\n",
    "        valid = False\n",
    "    \n",
    "    tl = bbox[:2]\n",
    "    hw = bbox[2:4]\n",
    "    return valid, tl, hw\n",
    "\n",
    "def response_visualization(response):\n",
    "    t = np.asarray(bytearray(base64.b64decode(response)))\n",
    "    response = cv2.imdecode(t, 0)\n",
    "    cls = (response != 255).astype(np.uint8)\n",
    "    response[cls == 0] = 0\n",
    "\n",
    "    hsv = np.zeros(response.shape + (3,), dtype=np.uint8)\n",
    "    hsv[:, :, 1] = 255\n",
    "    hsv[:, :, 0] = response / 2\n",
    "    hsv[:, :, 2] = cv2.normalize(cls, None, 0, 255, cv2.NORM_MINMAX)\n",
    "    bgr = cv2.cvtColor(hsv, cv2.COLOR_HSV2BGR)\n",
    "    return bgr\n",
    "\n",
    "def render(frame, result, w):\n",
    "    if 'response' in result and result['response'] is not None:\n",
    "        response = response_visualization(result['response'])\n",
    "        frame = cv2.addWeighted(frame, .7, response, .3, 0)\n",
    "        \n",
    "    left_bound = 0\n",
    "    right_bound = w\n",
    "    tup1 = ()\n",
    "    tup2 = ()\n",
    "    for item in result['lanes']:\n",
    "        p1 = tuple(item['control_points'][0])\n",
    "        p2 = tuple(item['control_points'][1])\n",
    "        if p2[0] <= w/2 and p2[0] >= left_bound:\n",
    "            left_bound = p2[0]\n",
    "            pleft = p2\n",
    "        if p2[0] >= w/2 and p2[0] <= right_bound:\n",
    "            right_bound = p2[0]\n",
    "            pright = p2\n",
    "\n",
    "    if 'pleft' in dir():\n",
    "        cv2.line(frame, p1, pleft, color = (0, 255, 0), thickness = 2)\n",
    "        tup1 = p1 + (pleft[0], )\n",
    "        \n",
    "    if 'pright' in dir():\n",
    "        cv2.line(frame, p1, pright, color = (0, 255, 0), thickness = 2)\n",
    "        tup2 = (pright[0], )\n",
    "\n",
    "    return frame, tup1 + tup2"
   ]
  },
  {
   "cell_type": "markdown",
   "metadata": {},
   "source": [
    "## Basic Parameters"
   ]
  },
  {
   "cell_type": "code",
   "execution_count": 3,
   "metadata": {
    "collapsed": true
   },
   "outputs": [],
   "source": [
    "# vid = cv2.VideoCapture(\"../../output_5min.mp4\")\n",
    "\n",
    "tic = time.time()\n",
    "# tracking pram\n",
    "padding = 1.0 \n",
    "output_sigma_factor = 1 / float(16)\n",
    "sigma = 0.2 \n",
    "lambda_value = 1e-2 \n",
    "interpolation_factor = 0.075\n",
    "Dsst_valid = False\n",
    "\n",
    "# tracking varias\n",
    "sz = None\n",
    "cos_window = None\n",
    "pos = None\n",
    "global z, response\n",
    "z = None\n",
    "alphaf = None\n",
    "response = None"
   ]
  },
  {
   "cell_type": "markdown",
   "metadata": {},
   "source": [
    "## Function for DSST"
   ]
  },
  {
   "cell_type": "code",
   "execution_count": 4,
   "metadata": {
    "collapsed": true
   },
   "outputs": [],
   "source": [
    "# input DSST\n",
    "sys.path.append(\"../build\")\n",
    "import DSST\n",
    "dsst = DSST.Tracker()\n",
    "dsst.setParam()\n",
    "\n",
    "# initialization for dsst\n",
    "\n",
    "# ret, im = vid.read()\n",
    "# dsst.setBbox(300,240,600,800)\n",
    "# dsst.reinit(im)\n",
    "\n",
    "# update tracking\n",
    "\n",
    "#     ret, im = vid.read()\n",
    "#     dsst.update(im)"
   ]
  },
  {
   "cell_type": "code",
   "execution_count": 5,
   "metadata": {
    "collapsed": true
   },
   "outputs": [],
   "source": [
    "def on_mouse(event, x, y, flags, param):\n",
    "    global img, point1, point2, min_x, min_y, width, height\n",
    "    img2 = img.copy()\n",
    "    if event == cv2.EVENT_LBUTTONDOWN:\n",
    "        point1 = (x, y)\n",
    "        cv2.circle(img2, point1, 10, (0,255, 0), 5)\n",
    "        cv2.imshow('image', img2)\n",
    "    elif event == cv2.EVENT_MOUSEMOVE and (flags & cv2.EVENT_FLAG_LBUTTON):\n",
    "        cv2.rectangle(img2, point1, (x, y), (255, 0, 0), 5)\n",
    "        cv2.imshow('image', img2)\n",
    "    elif event == cv2.EVENT_LBUTTONUP:\n",
    "        point2 = (x, y)\n",
    "        cv2.rectangle(img2, point1, point2, (255, 0, 0), 5)\n",
    "        cv2.imshow('image', img2)\n",
    "        min_x = min(point1[0], point2[0])\n",
    "        min_y = min(point1[1], point2[1])\n",
    "        width = abs(point1[0] - point2[0])\n",
    "        height = abs(point1[1] - point2[1])\n"
   ]
  },
  {
   "cell_type": "code",
   "execution_count": 6,
   "metadata": {
    "collapsed": true
   },
   "outputs": [],
   "source": [
    "\n",
    "folder = '/home/judy/nullmax/line'\n",
    "fn_imgs = glob.glob(folder + '/*.jpg')\n",
    "fn_imgs.sort()\n",
    "ori_imgs = [cv2.imread(f) for f in fn_imgs]\n",
    "\n",
    "out_video = cv2.VideoWriter(\n",
    "    filename='out_curve.avi',\n",
    "    fourcc=cv2.VideoWriter_fourcc(*'MJPG'),\n",
    "    fps=30,\n",
    "    frameSize=tuple([1280,960]),\n",
    "    isColor=True)\n",
    "\n",
    "global img\n",
    "img = ori_imgs[0]\n",
    "cv2.namedWindow('image')\n",
    "cv2.setMouseCallback('image', on_mouse)\n",
    "cv2.imshow('image', img)\n",
    "cv2.waitKey(0)\n",
    "\n",
    "dsst.setBbox(min_x, min_y, width, height)\n",
    "dsst.reinit(ori_imgs[0])\n",
    "\n",
    "for i, ori_img in enumerate(ori_imgs[1:]):\n",
    "    im = ori_img\n",
    "    dsst.update(im)\n",
    "  \n",
    "    _x = int(dsst.tFound.x)\n",
    "    _y = int(dsst.tFound.y)\n",
    "    _height = int(dsst.tFound.width)\n",
    "    _width  = int(dsst.tFound.height)\n",
    "    cv2.line(im, (_x, _y), (_x + _width, _y), (255, 0, 0), 4)\n",
    "    cv2.line(im, (_x, _y), (_x , _y + _height), (255, 0, 0), 4)\n",
    "    cv2.line(im, (_x, _y + _height), (_x + _width, _y + _height), (255, 0, 0), 4)\n",
    "    cv2.line(im, (_x + _width, _y + _height), (_x + _width, _y), (255, 0, 0), 4)\n",
    "\n",
    "    cv2.imshow('image', im)\n",
    "    out_video.write(im)\n",
    "    cv2.waitKey(1)"
   ]
  },
  {
   "cell_type": "code",
   "execution_count": 6,
   "metadata": {},
   "outputs": [
    {
     "name": "stdout",
     "output_type": "stream",
     "text": [
      "Object `cv2.imshow` not found.\n"
     ]
    }
   ],
   "source": []
  },
  {
   "cell_type": "code",
   "execution_count": null,
   "metadata": {
    "collapsed": true
   },
   "outputs": [],
   "source": []
  }
 ],
 "metadata": {
  "kernelspec": {
   "display_name": "Python 2",
   "language": "python",
   "name": "python2"
  },
  "language_info": {
   "codemirror_mode": {
    "name": "ipython",
    "version": 2
   },
   "file_extension": ".py",
   "mimetype": "text/x-python",
   "name": "python",
   "nbconvert_exporter": "python",
   "pygments_lexer": "ipython2",
   "version": "2.7.12"
  }
 },
 "nbformat": 4,
 "nbformat_minor": 1
}
